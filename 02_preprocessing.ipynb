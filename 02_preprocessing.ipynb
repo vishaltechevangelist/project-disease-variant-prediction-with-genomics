{
 "cells": [
  {
   "cell_type": "markdown",
   "id": "f2bae783",
   "metadata": {},
   "source": [
    "# Data Preprocessing"
   ]
  },
  {
   "cell_type": "markdown",
   "id": "5edc7d70",
   "metadata": {},
   "source": [
    "## Missing values\n",
    "### Check Missing values"
   ]
  },
  {
   "cell_type": "code",
   "execution_count": 1,
   "id": "82acb445",
   "metadata": {},
   "outputs": [
    {
     "name": "stderr",
     "output_type": "stream",
     "text": [
      "/var/folders/jx/cc9brgl143z9wt4bc65wylz40000gn/T/ipykernel_92905/2579736945.py:2: DtypeWarning: Columns (0) have mixed types. Specify dtype option on import or set low_memory=False.\n",
      "  dataset = pd.read_csv('data/genomics_clean.tsv', sep='\\t')\n"
     ]
    },
    {
     "data": {
      "text/html": [
       "<div>\n",
       "<style scoped>\n",
       "    .dataframe tbody tr th:only-of-type {\n",
       "        vertical-align: middle;\n",
       "    }\n",
       "\n",
       "    .dataframe tbody tr th {\n",
       "        vertical-align: top;\n",
       "    }\n",
       "\n",
       "    .dataframe thead th {\n",
       "        text-align: right;\n",
       "    }\n",
       "</style>\n",
       "<table border=\"1\" class=\"dataframe\">\n",
       "  <thead>\n",
       "    <tr style=\"text-align: right;\">\n",
       "      <th></th>\n",
       "      <th>Chromosome</th>\n",
       "      <th>Position</th>\n",
       "      <th>Reference</th>\n",
       "      <th>Alternate_Allele</th>\n",
       "      <th>Gene_Symbol</th>\n",
       "      <th>Clinical_Significance</th>\n",
       "      <th>Clinical_Review_Status</th>\n",
       "      <th>Clinical_Disease_Name</th>\n",
       "      <th>Missense_Variant</th>\n",
       "      <th>Allele_Frequencies_ESP</th>\n",
       "      <th>Allele_Frequencies_EXAC</th>\n",
       "      <th>Allele_Frequencies_TGP</th>\n",
       "    </tr>\n",
       "  </thead>\n",
       "  <tbody>\n",
       "    <tr>\n",
       "      <th>0</th>\n",
       "      <td>1</td>\n",
       "      <td>66926</td>\n",
       "      <td>AG</td>\n",
       "      <td>A</td>\n",
       "      <td>OR4F5</td>\n",
       "      <td>Uncertain_significance</td>\n",
       "      <td>criteria_provided,_single_submitter</td>\n",
       "      <td>Retinitis_pigmentosa</td>\n",
       "      <td>SO:0001627|intron_variant</td>\n",
       "      <td>NaN</td>\n",
       "      <td>NaN</td>\n",
       "      <td>NaN</td>\n",
       "    </tr>\n",
       "    <tr>\n",
       "      <th>1</th>\n",
       "      <td>1</td>\n",
       "      <td>69134</td>\n",
       "      <td>A</td>\n",
       "      <td>G</td>\n",
       "      <td>OR4F5</td>\n",
       "      <td>Likely_benign</td>\n",
       "      <td>criteria_provided,_single_submitter</td>\n",
       "      <td>not_specified</td>\n",
       "      <td>SO:0001583|missense_variant</td>\n",
       "      <td>NaN</td>\n",
       "      <td>NaN</td>\n",
       "      <td>NaN</td>\n",
       "    </tr>\n",
       "    <tr>\n",
       "      <th>2</th>\n",
       "      <td>1</td>\n",
       "      <td>69308</td>\n",
       "      <td>A</td>\n",
       "      <td>G</td>\n",
       "      <td>OR4F5</td>\n",
       "      <td>Uncertain_significance</td>\n",
       "      <td>criteria_provided,_single_submitter</td>\n",
       "      <td>not_specified</td>\n",
       "      <td>SO:0001583|missense_variant</td>\n",
       "      <td>NaN</td>\n",
       "      <td>NaN</td>\n",
       "      <td>NaN</td>\n",
       "    </tr>\n",
       "    <tr>\n",
       "      <th>3</th>\n",
       "      <td>1</td>\n",
       "      <td>69314</td>\n",
       "      <td>T</td>\n",
       "      <td>G</td>\n",
       "      <td>OR4F5</td>\n",
       "      <td>Uncertain_significance</td>\n",
       "      <td>criteria_provided,_single_submitter</td>\n",
       "      <td>not_specified</td>\n",
       "      <td>SO:0001583|missense_variant</td>\n",
       "      <td>NaN</td>\n",
       "      <td>NaN</td>\n",
       "      <td>NaN</td>\n",
       "    </tr>\n",
       "    <tr>\n",
       "      <th>4</th>\n",
       "      <td>1</td>\n",
       "      <td>69404</td>\n",
       "      <td>T</td>\n",
       "      <td>C</td>\n",
       "      <td>OR4F5</td>\n",
       "      <td>Uncertain_significance</td>\n",
       "      <td>criteria_provided,_single_submitter</td>\n",
       "      <td>not_specified</td>\n",
       "      <td>SO:0001583|missense_variant</td>\n",
       "      <td>NaN</td>\n",
       "      <td>NaN</td>\n",
       "      <td>NaN</td>\n",
       "    </tr>\n",
       "  </tbody>\n",
       "</table>\n",
       "</div>"
      ],
      "text/plain": [
       "  Chromosome  Position Reference Alternate_Allele Gene_Symbol  \\\n",
       "0          1     66926        AG                A       OR4F5   \n",
       "1          1     69134         A                G       OR4F5   \n",
       "2          1     69308         A                G       OR4F5   \n",
       "3          1     69314         T                G       OR4F5   \n",
       "4          1     69404         T                C       OR4F5   \n",
       "\n",
       "    Clinical_Significance               Clinical_Review_Status  \\\n",
       "0  Uncertain_significance  criteria_provided,_single_submitter   \n",
       "1           Likely_benign  criteria_provided,_single_submitter   \n",
       "2  Uncertain_significance  criteria_provided,_single_submitter   \n",
       "3  Uncertain_significance  criteria_provided,_single_submitter   \n",
       "4  Uncertain_significance  criteria_provided,_single_submitter   \n",
       "\n",
       "  Clinical_Disease_Name             Missense_Variant  Allele_Frequencies_ESP  \\\n",
       "0  Retinitis_pigmentosa    SO:0001627|intron_variant                     NaN   \n",
       "1         not_specified  SO:0001583|missense_variant                     NaN   \n",
       "2         not_specified  SO:0001583|missense_variant                     NaN   \n",
       "3         not_specified  SO:0001583|missense_variant                     NaN   \n",
       "4         not_specified  SO:0001583|missense_variant                     NaN   \n",
       "\n",
       "   Allele_Frequencies_EXAC  Allele_Frequencies_TGP  \n",
       "0                      NaN                     NaN  \n",
       "1                      NaN                     NaN  \n",
       "2                      NaN                     NaN  \n",
       "3                      NaN                     NaN  \n",
       "4                      NaN                     NaN  "
      ]
     },
     "execution_count": 1,
     "metadata": {},
     "output_type": "execute_result"
    }
   ],
   "source": [
    "import pandas as pd \n",
    "dataset = pd.read_csv('data/genomics_clean.tsv', sep='\\t')\n",
    "dataset.head()"
   ]
  },
  {
   "cell_type": "code",
   "execution_count": 2,
   "id": "64a06942",
   "metadata": {},
   "outputs": [
    {
     "data": {
      "text/plain": [
       "Chromosome                       0\n",
       "Position                         0\n",
       "Reference                        0\n",
       "Alternate_Allele              1023\n",
       "Gene_Symbol                    767\n",
       "Clinical_Significance         4526\n",
       "Clinical_Review_Status        4526\n",
       "Clinical_Disease_Name         5191\n",
       "Missense_Variant             19339\n",
       "Allele_Frequencies_ESP     3275634\n",
       "Allele_Frequencies_EXAC    2734172\n",
       "Allele_Frequencies_TGP     3240811\n",
       "dtype: int64"
      ]
     },
     "execution_count": 2,
     "metadata": {},
     "output_type": "execute_result"
    }
   ],
   "source": [
    "dataset.isna().sum()"
   ]
  },
  {
   "cell_type": "code",
   "execution_count": 3,
   "id": "cc4ac274",
   "metadata": {},
   "outputs": [
    {
     "name": "stdout",
     "output_type": "stream",
     "text": [
      "<class 'pandas.core.frame.DataFrame'>\n",
      "RangeIndex: 3687735 entries, 0 to 3687734\n",
      "Data columns (total 12 columns):\n",
      " #   Column                   Dtype  \n",
      "---  ------                   -----  \n",
      " 0   Chromosome               object \n",
      " 1   Position                 int64  \n",
      " 2   Reference                object \n",
      " 3   Alternate_Allele         object \n",
      " 4   Gene_Symbol              object \n",
      " 5   Clinical_Significance    object \n",
      " 6   Clinical_Review_Status   object \n",
      " 7   Clinical_Disease_Name    object \n",
      " 8   Missense_Variant         object \n",
      " 9   Allele_Frequencies_ESP   float64\n",
      " 10  Allele_Frequencies_EXAC  float64\n",
      " 11  Allele_Frequencies_TGP   float64\n",
      "dtypes: float64(3), int64(1), object(8)\n",
      "memory usage: 337.6+ MB\n"
     ]
    }
   ],
   "source": [
    "dataset.info()"
   ]
  },
  {
   "cell_type": "markdown",
   "id": "f4648f0b",
   "metadata": {},
   "source": [
    "### Drop highly missing values columns"
   ]
  },
  {
   "cell_type": "code",
   "execution_count": 4,
   "id": "ae57849b",
   "metadata": {},
   "outputs": [
    {
     "data": {
      "text/plain": [
       "Chromosome                    0\n",
       "Position                      0\n",
       "Reference                     0\n",
       "Alternate_Allele           1023\n",
       "Gene_Symbol                 767\n",
       "Clinical_Significance      4526\n",
       "Clinical_Review_Status     4526\n",
       "Clinical_Disease_Name      5191\n",
       "Missense_Variant          19339\n",
       "dtype: int64"
      ]
     },
     "execution_count": 4,
     "metadata": {},
     "output_type": "execute_result"
    }
   ],
   "source": [
    "# dataset = dataset.dropna(subset=['Allele_Frequencies_ESP', 'Allele_Frequencies_EXAC', 'Allele_Frequencies_TGP'])\n",
    "dataset = dataset.drop(columns=['Allele_Frequencies_ESP', 'Allele_Frequencies_EXAC', 'Allele_Frequencies_TGP'])\n",
    "dataset.isna().sum()"
   ]
  },
  {
   "cell_type": "markdown",
   "id": "7639719b",
   "metadata": {},
   "source": [
    "### Fill categorical columns"
   ]
  },
  {
   "cell_type": "code",
   "execution_count": 5,
   "id": "09760f25",
   "metadata": {},
   "outputs": [
    {
     "data": {
      "text/plain": [
       "Gene_Symbol\n",
       "TTN          36438\n",
       "BRCA2        19899\n",
       "ATM          18418\n",
       "APC          16037\n",
       "NF1          15900\n",
       "             ...  \n",
       "BCAP29           1\n",
       "RPL39            1\n",
       "MCRIP2           1\n",
       "TMEM225B         1\n",
       "C20orf202        1\n",
       "Name: count, Length: 18517, dtype: int64"
      ]
     },
     "execution_count": 5,
     "metadata": {},
     "output_type": "execute_result"
    }
   ],
   "source": [
    "dataset['Gene_Symbol'].value_counts()"
   ]
  },
  {
   "cell_type": "code",
   "execution_count": 6,
   "id": "87d7b28e",
   "metadata": {},
   "outputs": [
    {
     "data": {
      "text/plain": [
       "np.int64(0)"
      ]
     },
     "execution_count": 6,
     "metadata": {},
     "output_type": "execute_result"
    }
   ],
   "source": [
    "dataset['Gene_Symbol'] = dataset['Gene_Symbol'].fillna('Unknown')\n",
    "dataset['Gene_Symbol'].isna().sum()"
   ]
  },
  {
   "cell_type": "code",
   "execution_count": 7,
   "id": "895f9d54",
   "metadata": {},
   "outputs": [
    {
     "data": {
      "text/plain": [
       "np.int64(0)"
      ]
     },
     "execution_count": 7,
     "metadata": {},
     "output_type": "execute_result"
    }
   ],
   "source": [
    "dataset['Clinical_Disease_Name'] = dataset['Clinical_Disease_Name'].fillna('No_disease_reported')\n",
    "dataset['Clinical_Disease_Name'].isna().sum()"
   ]
  },
  {
   "cell_type": "code",
   "execution_count": 8,
   "id": "77cfcc06",
   "metadata": {},
   "outputs": [
    {
     "data": {
      "text/plain": [
       "np.int64(0)"
      ]
     },
     "execution_count": 8,
     "metadata": {},
     "output_type": "execute_result"
    }
   ],
   "source": [
    "dataset['Clinical_Review_Status'] = dataset['Clinical_Review_Status'].fillna('Unreviewed')\n",
    "dataset['Clinical_Review_Status'].isna().sum()"
   ]
  },
  {
   "cell_type": "code",
   "execution_count": 9,
   "id": "55c7efc1",
   "metadata": {},
   "outputs": [
    {
     "data": {
      "text/plain": [
       "Chromosome                    0\n",
       "Position                      0\n",
       "Reference                     0\n",
       "Alternate_Allele           1023\n",
       "Gene_Symbol                   0\n",
       "Clinical_Significance      4526\n",
       "Clinical_Review_Status        0\n",
       "Clinical_Disease_Name         0\n",
       "Missense_Variant          19339\n",
       "dtype: int64"
      ]
     },
     "execution_count": 9,
     "metadata": {},
     "output_type": "execute_result"
    }
   ],
   "source": [
    "dataset.isna().sum()"
   ]
  },
  {
   "cell_type": "markdown",
   "id": "1e9cb7d9",
   "metadata": {},
   "source": [
    "### Drop NaN rows "
   ]
  },
  {
   "cell_type": "code",
   "execution_count": 10,
   "id": "88a74f80",
   "metadata": {},
   "outputs": [
    {
     "data": {
      "text/plain": [
       "Chromosome                    0\n",
       "Position                      0\n",
       "Reference                     0\n",
       "Alternate_Allele              0\n",
       "Gene_Symbol                   0\n",
       "Clinical_Significance         0\n",
       "Clinical_Review_Status        0\n",
       "Clinical_Disease_Name         0\n",
       "Missense_Variant          19288\n",
       "dtype: int64"
      ]
     },
     "execution_count": 10,
     "metadata": {},
     "output_type": "execute_result"
    }
   ],
   "source": [
    "dataset = dataset.dropna(subset=['Alternate_Allele', 'Clinical_Significance'])\n",
    "dataset.isna().sum()"
   ]
  },
  {
   "cell_type": "code",
   "execution_count": 11,
   "id": "68a66d62",
   "metadata": {},
   "outputs": [
    {
     "data": {
      "text/plain": [
       "Missense_Variant\n",
       "SO:0001583|missense_variant                                                                                                                   1569692\n",
       "SO:0001819|synonymous_variant                                                                                                                  525944\n",
       "SO:0001627|intron_variant                                                                                                                      514772\n",
       "SO:0001583|missense_variant,SO:0001619|non-coding_transcript_variant                                                                           213676\n",
       "SO:0001583|missense_variant,SO:0001627|intron_variant                                                                                          130995\n",
       "                                                                                                                                               ...   \n",
       "SO:0001578|stop_lost,SO:0001619|non-coding_transcript_variant,SO:0001820|inframe_indel                                                              1\n",
       "SO:0001582|initiator_codon_variant,SO:0001583|missense_variant,SO:0001623|5_prime_UTR_variant,SO:0002153|genic_upstream_transcript_variant          1\n",
       "SO:0001574|splice_acceptor_variant,SO:0001575|splice_donor_variant,SO:0001820|inframe_indel,SO:0001822|inframe_deletion                             1\n",
       "SO:0001578|stop_lost,SO:0001583|missense_variant,SO:0001623|5_prime_UTR_variant                                                                     1\n",
       "SO:0001619|non-coding_transcript_variant,SO:0001821|inframe_insertion,SO:0002073|no_sequence_alteration                                             1\n",
       "Name: count, Length: 651, dtype: int64"
      ]
     },
     "execution_count": 11,
     "metadata": {},
     "output_type": "execute_result"
    }
   ],
   "source": [
    "dataset['Missense_Variant'].value_counts()"
   ]
  },
  {
   "cell_type": "code",
   "execution_count": 12,
   "id": "ff6b4e00",
   "metadata": {},
   "outputs": [
    {
     "data": {
      "text/plain": [
       "Chromosome                0\n",
       "Position                  0\n",
       "Reference                 0\n",
       "Alternate_Allele          0\n",
       "Gene_Symbol               0\n",
       "Clinical_Significance     0\n",
       "Clinical_Review_Status    0\n",
       "Clinical_Disease_Name     0\n",
       "Missense_Variant          0\n",
       "dtype: int64"
      ]
     },
     "execution_count": 12,
     "metadata": {},
     "output_type": "execute_result"
    }
   ],
   "source": [
    "dataset['Missense_Variant'] = dataset['Missense_Variant'].fillna(0)\n",
    "dataset.isna().sum()"
   ]
  },
  {
   "cell_type": "code",
   "execution_count": 13,
   "id": "4d0628b1",
   "metadata": {},
   "outputs": [
    {
     "data": {
      "text/plain": [
       "Chromosome                0\n",
       "Position                  0\n",
       "Reference                 0\n",
       "Alternate_Allele          0\n",
       "Gene_Symbol               0\n",
       "Clinical_Significance     0\n",
       "Clinical_Review_Status    0\n",
       "Clinical_Disease_Name     0\n",
       "Missense_Variant          0\n",
       "dtype: int64"
      ]
     },
     "execution_count": 13,
     "metadata": {},
     "output_type": "execute_result"
    }
   ],
   "source": [
    "dataset.isna().sum()"
   ]
  },
  {
   "cell_type": "markdown",
   "id": "7b6b7446",
   "metadata": {},
   "source": [
    "## Feature Engineering"
   ]
  },
  {
   "cell_type": "markdown",
   "id": "0484b7dc",
   "metadata": {},
   "source": [
    "### Label encoding - Clinical Significance"
   ]
  },
  {
   "cell_type": "code",
   "execution_count": 14,
   "id": "c824685c",
   "metadata": {},
   "outputs": [
    {
     "data": {
      "text/html": [
       "<div>\n",
       "<style scoped>\n",
       "    .dataframe tbody tr th:only-of-type {\n",
       "        vertical-align: middle;\n",
       "    }\n",
       "\n",
       "    .dataframe tbody tr th {\n",
       "        vertical-align: top;\n",
       "    }\n",
       "\n",
       "    .dataframe thead th {\n",
       "        text-align: right;\n",
       "    }\n",
       "</style>\n",
       "<table border=\"1\" class=\"dataframe\">\n",
       "  <thead>\n",
       "    <tr style=\"text-align: right;\">\n",
       "      <th></th>\n",
       "      <th>Chromosome</th>\n",
       "      <th>Position</th>\n",
       "      <th>Reference</th>\n",
       "      <th>Alternate_Allele</th>\n",
       "      <th>Gene_Symbol</th>\n",
       "      <th>Clinical_Significance</th>\n",
       "      <th>Clinical_Review_Status</th>\n",
       "      <th>Clinical_Disease_Name</th>\n",
       "      <th>Missense_Variant</th>\n",
       "    </tr>\n",
       "  </thead>\n",
       "  <tbody>\n",
       "    <tr>\n",
       "      <th>0</th>\n",
       "      <td>1</td>\n",
       "      <td>66926</td>\n",
       "      <td>AG</td>\n",
       "      <td>A</td>\n",
       "      <td>OR4F5</td>\n",
       "      <td>Uncertain_significance</td>\n",
       "      <td>criteria_provided,_single_submitter</td>\n",
       "      <td>Retinitis_pigmentosa</td>\n",
       "      <td>SO:0001627|intron_variant</td>\n",
       "    </tr>\n",
       "    <tr>\n",
       "      <th>1</th>\n",
       "      <td>1</td>\n",
       "      <td>69134</td>\n",
       "      <td>A</td>\n",
       "      <td>G</td>\n",
       "      <td>OR4F5</td>\n",
       "      <td>Likely_benign</td>\n",
       "      <td>criteria_provided,_single_submitter</td>\n",
       "      <td>not_specified</td>\n",
       "      <td>SO:0001583|missense_variant</td>\n",
       "    </tr>\n",
       "    <tr>\n",
       "      <th>2</th>\n",
       "      <td>1</td>\n",
       "      <td>69308</td>\n",
       "      <td>A</td>\n",
       "      <td>G</td>\n",
       "      <td>OR4F5</td>\n",
       "      <td>Uncertain_significance</td>\n",
       "      <td>criteria_provided,_single_submitter</td>\n",
       "      <td>not_specified</td>\n",
       "      <td>SO:0001583|missense_variant</td>\n",
       "    </tr>\n",
       "    <tr>\n",
       "      <th>3</th>\n",
       "      <td>1</td>\n",
       "      <td>69314</td>\n",
       "      <td>T</td>\n",
       "      <td>G</td>\n",
       "      <td>OR4F5</td>\n",
       "      <td>Uncertain_significance</td>\n",
       "      <td>criteria_provided,_single_submitter</td>\n",
       "      <td>not_specified</td>\n",
       "      <td>SO:0001583|missense_variant</td>\n",
       "    </tr>\n",
       "    <tr>\n",
       "      <th>4</th>\n",
       "      <td>1</td>\n",
       "      <td>69404</td>\n",
       "      <td>T</td>\n",
       "      <td>C</td>\n",
       "      <td>OR4F5</td>\n",
       "      <td>Uncertain_significance</td>\n",
       "      <td>criteria_provided,_single_submitter</td>\n",
       "      <td>not_specified</td>\n",
       "      <td>SO:0001583|missense_variant</td>\n",
       "    </tr>\n",
       "  </tbody>\n",
       "</table>\n",
       "</div>"
      ],
      "text/plain": [
       "  Chromosome  Position Reference Alternate_Allele Gene_Symbol  \\\n",
       "0          1     66926        AG                A       OR4F5   \n",
       "1          1     69134         A                G       OR4F5   \n",
       "2          1     69308         A                G       OR4F5   \n",
       "3          1     69314         T                G       OR4F5   \n",
       "4          1     69404         T                C       OR4F5   \n",
       "\n",
       "    Clinical_Significance               Clinical_Review_Status  \\\n",
       "0  Uncertain_significance  criteria_provided,_single_submitter   \n",
       "1           Likely_benign  criteria_provided,_single_submitter   \n",
       "2  Uncertain_significance  criteria_provided,_single_submitter   \n",
       "3  Uncertain_significance  criteria_provided,_single_submitter   \n",
       "4  Uncertain_significance  criteria_provided,_single_submitter   \n",
       "\n",
       "  Clinical_Disease_Name             Missense_Variant  \n",
       "0  Retinitis_pigmentosa    SO:0001627|intron_variant  \n",
       "1         not_specified  SO:0001583|missense_variant  \n",
       "2         not_specified  SO:0001583|missense_variant  \n",
       "3         not_specified  SO:0001583|missense_variant  \n",
       "4         not_specified  SO:0001583|missense_variant  "
      ]
     },
     "execution_count": 14,
     "metadata": {},
     "output_type": "execute_result"
    }
   ],
   "source": [
    "dataset.head()"
   ]
  },
  {
   "cell_type": "code",
   "execution_count": 15,
   "id": "3ea7a9cf",
   "metadata": {},
   "outputs": [
    {
     "data": {
      "text/plain": [
       "array(['Uncertain_significance', 'Likely_benign', 'Benign',\n",
       "       'Conflicting_classifications_of_pathogenicity',\n",
       "       'Benign/Likely_benign', 'Pathogenic', 'Likely_pathogenic',\n",
       "       'Pathogenic/Likely_pathogenic', 'not_provided',\n",
       "       'no_classifications_from_unflagged_records', 'risk_factor',\n",
       "       'Affects', 'no_classification_for_the_single_variant',\n",
       "       'association', 'Benign|other', 'Pathogenic|risk_factor',\n",
       "       'Benign/Likely_benign|other', 'drug_response',\n",
       "       'Conflicting_classifications_of_pathogenicity|association',\n",
       "       'Benign|association', 'Uncertain_risk_allele',\n",
       "       'Conflicting_classifications_of_pathogenicity|other', 'other',\n",
       "       'Likely_benign|association', 'Likely_risk_allele',\n",
       "       'Pathogenic/Likely_pathogenic/Pathogenic,_low_penetrance',\n",
       "       'Pathogenic/Likely_pathogenic|other', 'Benign|drug_response',\n",
       "       'Pathogenic/Likely_pathogenic/Pathogenic,_low_penetrance|other',\n",
       "       'protective', 'Pathogenic/Likely_pathogenic|risk_factor',\n",
       "       'Conflicting_classifications_of_pathogenicity|risk_factor',\n",
       "       'Uncertain_significance/Uncertain_risk_allele',\n",
       "       'protective|risk_factor', 'Benign|protective',\n",
       "       'Benign|risk_factor', 'Uncertain_significance|risk_factor',\n",
       "       'Benign/Likely_benign|other|risk_factor',\n",
       "       'Benign/Likely_benign|association',\n",
       "       'Likely_pathogenic,_low_penetrance',\n",
       "       'Likely_pathogenic|risk_factor',\n",
       "       'Benign|Affects|association|other', 'Pathogenic|protective',\n",
       "       'Conflicting_classifications_of_pathogenicity|drug_response|other',\n",
       "       'Conflicting_classifications_of_pathogenicity|drug_response',\n",
       "       'Pathogenic|other',\n",
       "       'Conflicting_classifications_of_pathogenicity|protective',\n",
       "       'Likely_pathogenic/Likely_risk_allele', 'association_not_found',\n",
       "       'Likely_benign|Affects|association',\n",
       "       'Uncertain_significance|association',\n",
       "       'Pathogenic/Likely_pathogenic/Likely_risk_allele',\n",
       "       'Uncertain_significance|other', 'Likely_benign|other',\n",
       "       'Conflicting_classifications_of_pathogenicity|association|risk_factor',\n",
       "       'Pathogenic|association', 'Benign/Likely_benign|risk_factor',\n",
       "       'Likely_benign|drug_response',\n",
       "       'Conflicting_classifications_of_pathogenicity|other|risk_factor',\n",
       "       'Uncertain_significance|drug_response', 'other|risk_factor',\n",
       "       'Likely_pathogenic|drug_response', 'Pathogenic|drug_response',\n",
       "       'Conflicting_classifications_of_pathogenicity|Affects',\n",
       "       'Uncertain_significance|Affects',\n",
       "       'association|drug_response|risk_factor', 'Pathogenic|Affects',\n",
       "       'Likely_pathogenic|protective', 'Established_risk_allele',\n",
       "       'confers_sensitivity', 'Likely_pathogenic|association',\n",
       "       'Benign|Affects', 'Likely_pathogenic|Affects',\n",
       "       'Uncertain_risk_allele|risk_factor', 'drug_response|risk_factor',\n",
       "       'Pathogenic/Likely_risk_allele',\n",
       "       'Likely_benign|drug_response|other',\n",
       "       'Benign/Likely_benign|drug_response',\n",
       "       'Benign/Likely_benign|drug_response|other', 'drug_response|other',\n",
       "       'Pathogenic/Likely_pathogenic/Pathogenic,_low_penetrance|risk_factor',\n",
       "       'Pathogenic|confers_sensitivity', 'Likely_benign|risk_factor',\n",
       "       'association|risk_factor',\n",
       "       'Pathogenic/Pathogenic,_low_penetrance|other',\n",
       "       'Pathogenic/Likely_pathogenic|association',\n",
       "       'Benign|confers_sensitivity', 'confers_sensitivity|other'],\n",
       "      dtype=object)"
      ]
     },
     "execution_count": 15,
     "metadata": {},
     "output_type": "execute_result"
    }
   ],
   "source": [
    "dataset['Clinical_Significance'].unique()"
   ]
  },
  {
   "cell_type": "code",
   "execution_count": 16,
   "id": "ea32a88d",
   "metadata": {},
   "outputs": [],
   "source": [
    "import numpy as np\n",
    "\n",
    "def simplify_clinsig(value):\n",
    "    if pd.isna(value):\n",
    "        return 'Unknown'\n",
    "    clin_sig_value = value.lower()\n",
    "    \n",
    "    if 'pathogenic' in clin_sig_value:\n",
    "        return 'Pathogenic'\n",
    "    elif 'benign' in clin_sig_value:\n",
    "        return 'Benign'\n",
    "    elif 'uncertain' in clin_sig_value:\n",
    "        return 'Uncertain'\n",
    "    elif 'conflicting' in clin_sig_value:\n",
    "        return 'Conflicting'\n",
    "    elif 'risk_factor' in clin_sig_value or 'risk' in clin_sig_value or 'protective' in clin_sig_value or 'sensitivity' in clin_sig_value:\n",
    "        return 'Risk_factor'\n",
    "    elif 'drug_response' in clin_sig_value:\n",
    "        return 'Drug_response'\n",
    "    elif 'association' in clin_sig_value or 'affects' in clin_sig_value:\n",
    "        return 'Association'\n",
    "    elif 'not_provided' in clin_sig_value or 'no_classification' in clin_sig_value or 'other' in clin_sig_value:\n",
    "        return 'Other'\n",
    "    else:\n",
    "        return 'Other' "
   ]
  },
  {
   "cell_type": "code",
   "execution_count": 17,
   "id": "f77126eb",
   "metadata": {},
   "outputs": [
    {
     "data": {
      "text/plain": [
       "array(['Uncertain', 'Benign', 'Pathogenic', 'Other', 'Risk_factor',\n",
       "       'Association', 'Drug_response'], dtype=object)"
      ]
     },
     "execution_count": 17,
     "metadata": {},
     "output_type": "execute_result"
    }
   ],
   "source": [
    "dataset['Clinical_Significance'] = dataset['Clinical_Significance'].apply(simplify_clinsig)\n",
    "dataset['Clinical_Significance'].unique()"
   ]
  },
  {
   "cell_type": "code",
   "execution_count": 18,
   "id": "59755786",
   "metadata": {},
   "outputs": [
    {
     "data": {
      "text/plain": [
       "Clinical_Significance\n",
       "Uncertain        1939966\n",
       "Benign           1266122\n",
       "Pathogenic        463873\n",
       "Other               9384\n",
       "Drug_response       1861\n",
       "Risk_factor          517\n",
       "Association          463\n",
       "Name: count, dtype: int64"
      ]
     },
     "execution_count": 18,
     "metadata": {},
     "output_type": "execute_result"
    }
   ],
   "source": [
    "dataset['Clinical_Significance'].value_counts()"
   ]
  },
  {
   "cell_type": "code",
   "execution_count": 19,
   "id": "3a07092a",
   "metadata": {},
   "outputs": [
    {
     "data": {
      "text/plain": [
       "Clinical_Significance_Encoded\n",
       "1    1939966\n",
       "0    1266122\n",
       "2     463873\n",
       "7       9384\n",
       "5       1861\n",
       "4        517\n",
       "6        463\n",
       "Name: count, dtype: int64"
      ]
     },
     "execution_count": 19,
     "metadata": {},
     "output_type": "execute_result"
    }
   ],
   "source": [
    "sig_label_map = {\n",
    "    'Benign': 0,\n",
    "    'Uncertain': 1,\n",
    "    'Pathogenic': 2,\n",
    "    'Conflicting': 3,\n",
    "    'Risk_factor': 4,\n",
    "    'Drug_response': 5,\n",
    "    'Association': 6,\n",
    "    'Other': 7\n",
    "}\n",
    "\n",
    "dataset['Clinical_Significance_Encoded'] = dataset['Clinical_Significance'].map(sig_label_map)\n",
    "dataset['Clinical_Significance_Encoded'].value_counts()"
   ]
  },
  {
   "cell_type": "markdown",
   "id": "418b3b22",
   "metadata": {},
   "source": [
    "### Map and Enable encoding - Chromosome"
   ]
  },
  {
   "cell_type": "code",
   "execution_count": 20,
   "id": "caa30c86",
   "metadata": {},
   "outputs": [
    {
     "data": {
      "text/plain": [
       "array([1, 2, 3, 4, 5, 6, 7, 8, 9, 10, 11, 12, 13, 14, 15, 16, 17, 18, 19,\n",
       "       20, 21, 22, '22', 'X', 'Y', 'MT', 'NT_113889.1', 'NT_187633.1',\n",
       "       'NT_187661.1', 'NT_187693.1', 'NW_009646201.1'], dtype=object)"
      ]
     },
     "execution_count": 20,
     "metadata": {},
     "output_type": "execute_result"
    }
   ],
   "source": [
    "dataset['Chromosome'].unique()"
   ]
  },
  {
   "cell_type": "code",
   "execution_count": 21,
   "id": "09df8a4f",
   "metadata": {},
   "outputs": [
    {
     "data": {
      "text/plain": [
       "Chromosome\n",
       "2                 333754\n",
       "1                 328143\n",
       "17                224188\n",
       "11                218427\n",
       "19                206253\n",
       "3                 200989\n",
       "16                194165\n",
       "5                 181798\n",
       "7                 179750\n",
       "12                167605\n",
       "6                 164854\n",
       "9                 164713\n",
       "10                136996\n",
       "X                 135910\n",
       "4                 130277\n",
       "15                130127\n",
       "8                 125273\n",
       "14                117813\n",
       "20                 77985\n",
       "13                 74590\n",
       "22                 71191\n",
       "18                 63059\n",
       "21                 41717\n",
       "22                  9357\n",
       "MT                  3104\n",
       "Y                    115\n",
       "NT_187633.1           13\n",
       "NT_187693.1           10\n",
       "NT_187661.1            8\n",
       "NT_113889.1            1\n",
       "NW_009646201.1         1\n",
       "Name: count, dtype: int64"
      ]
     },
     "execution_count": 21,
     "metadata": {},
     "output_type": "execute_result"
    }
   ],
   "source": [
    "dataset['Chromosome'].value_counts()"
   ]
  },
  {
   "cell_type": "code",
   "execution_count": 22,
   "id": "933e4379",
   "metadata": {},
   "outputs": [
    {
     "data": {
      "text/plain": [
       "Chromosome_Encoded\n",
       "2     333754\n",
       "1     328143\n",
       "17    224188\n",
       "11    218427\n",
       "19    206253\n",
       "3     200989\n",
       "16    194165\n",
       "5     181798\n",
       "7     179750\n",
       "12    167605\n",
       "6     164854\n",
       "9     164713\n",
       "10    136996\n",
       "23    135910\n",
       "4     130277\n",
       "15    130127\n",
       "8     125273\n",
       "14    117813\n",
       "20     77985\n",
       "13     74590\n",
       "22     71191\n",
       "18     63059\n",
       "21     41717\n",
       "22      9357\n",
       "25      3104\n",
       "24       115\n",
       "26        13\n",
       "27        10\n",
       "28         8\n",
       "29         1\n",
       "30         1\n",
       "Name: count, dtype: int64"
      ]
     },
     "execution_count": 22,
     "metadata": {},
     "output_type": "execute_result"
    }
   ],
   "source": [
    "chrom_map = {'X':23, 'Y':24, 'MT': 25, 'NT_187633.1': 26, 'NT_187693.1': 27, 'NT_187661.1': 28, 'NT_113889.1': 29,\n",
    "            'NW_009646201.1': 30}\n",
    "dataset['Chromosome_Encoded'] = dataset['Chromosome'].replace(chrom_map)\n",
    "dataset['Chromosome_Encoded'].value_counts()"
   ]
  },
  {
   "cell_type": "code",
   "execution_count": 23,
   "id": "50e860d4",
   "metadata": {},
   "outputs": [
    {
     "data": {
      "text/plain": [
       "array(['criteria_provided,_single_submitter',\n",
       "       'criteria_provided,_multiple_submitters,_no_conflicts',\n",
       "       'no_assertion_criteria_provided',\n",
       "       'criteria_provided,_conflicting_classifications',\n",
       "       'no_classification_provided',\n",
       "       'no_classifications_from_unflagged_records',\n",
       "       'no_classification_for_the_single_variant',\n",
       "       'reviewed_by_expert_panel', 'practice_guideline'], dtype=object)"
      ]
     },
     "execution_count": 23,
     "metadata": {},
     "output_type": "execute_result"
    }
   ],
   "source": [
    "dataset['Clinical_Review_Status'].unique()"
   ]
  },
  {
   "cell_type": "code",
   "execution_count": 24,
   "id": "7950065c",
   "metadata": {},
   "outputs": [
    {
     "data": {
      "text/plain": [
       "Clinical_Review_Status\n",
       "criteria_provided,_single_submitter                     2801017\n",
       "criteria_provided,_multiple_submitters,_no_conflicts     593757\n",
       "criteria_provided,_conflicting_classifications           149571\n",
       "no_assertion_criteria_provided                           109832\n",
       "reviewed_by_expert_panel                                  20123\n",
       "no_classification_provided                                 6993\n",
       "no_classification_for_the_single_variant                    627\n",
       "no_classifications_from_unflagged_records                   215\n",
       "practice_guideline                                           51\n",
       "Name: count, dtype: int64"
      ]
     },
     "execution_count": 24,
     "metadata": {},
     "output_type": "execute_result"
    }
   ],
   "source": [
    "dataset['Clinical_Review_Status'].value_counts()"
   ]
  },
  {
   "cell_type": "code",
   "execution_count": 25,
   "id": "990ac46d",
   "metadata": {},
   "outputs": [
    {
     "data": {
      "text/plain": [
       "Clinical_Review_Status_Encoded\n",
       "1    2801017\n",
       "2     593757\n",
       "5     149571\n",
       "0     109832\n",
       "3      20123\n",
       "6       6993\n",
       "8        627\n",
       "7        215\n",
       "4         51\n",
       "Name: count, dtype: int64"
      ]
     },
     "execution_count": 25,
     "metadata": {},
     "output_type": "execute_result"
    }
   ],
   "source": [
    "review_map = {\n",
    "    'no_assertion_criteria_provided': 0,\n",
    "    'criteria_provided,_single_submitter':1,\n",
    "    'criteria_provided,_multiple_submitters,_no_conflicts':2,\n",
    "    'reviewed_by_expert_panel': 3,\n",
    "    'practice_guideline': 4,\n",
    "    'criteria_provided,_conflicting_classifications': 5,\n",
    "    'no_classification_provided':6,\n",
    "    'no_classifications_from_unflagged_records':7,\n",
    "    'no_classification_for_the_single_variant':8\n",
    "}\n",
    "\n",
    "dataset['Clinical_Review_Status_Encoded'] = dataset['Clinical_Review_Status'].map(review_map)\n",
    "dataset['Clinical_Review_Status_Encoded'].value_counts()"
   ]
  },
  {
   "cell_type": "code",
   "execution_count": 26,
   "id": "e68dbe9a",
   "metadata": {},
   "outputs": [
    {
     "data": {
      "text/html": [
       "<div>\n",
       "<style scoped>\n",
       "    .dataframe tbody tr th:only-of-type {\n",
       "        vertical-align: middle;\n",
       "    }\n",
       "\n",
       "    .dataframe tbody tr th {\n",
       "        vertical-align: top;\n",
       "    }\n",
       "\n",
       "    .dataframe thead th {\n",
       "        text-align: right;\n",
       "    }\n",
       "</style>\n",
       "<table border=\"1\" class=\"dataframe\">\n",
       "  <thead>\n",
       "    <tr style=\"text-align: right;\">\n",
       "      <th></th>\n",
       "      <th>Chromosome</th>\n",
       "      <th>Position</th>\n",
       "      <th>Reference</th>\n",
       "      <th>Alternate_Allele</th>\n",
       "      <th>Gene_Symbol</th>\n",
       "      <th>Clinical_Significance</th>\n",
       "      <th>Clinical_Review_Status</th>\n",
       "      <th>Clinical_Disease_Name</th>\n",
       "      <th>Missense_Variant</th>\n",
       "      <th>Clinical_Significance_Encoded</th>\n",
       "      <th>Chromosome_Encoded</th>\n",
       "      <th>Clinical_Review_Status_Encoded</th>\n",
       "    </tr>\n",
       "  </thead>\n",
       "  <tbody>\n",
       "    <tr>\n",
       "      <th>0</th>\n",
       "      <td>1</td>\n",
       "      <td>66926</td>\n",
       "      <td>AG</td>\n",
       "      <td>A</td>\n",
       "      <td>OR4F5</td>\n",
       "      <td>Uncertain</td>\n",
       "      <td>criteria_provided,_single_submitter</td>\n",
       "      <td>Retinitis_pigmentosa</td>\n",
       "      <td>SO:0001627|intron_variant</td>\n",
       "      <td>1</td>\n",
       "      <td>1</td>\n",
       "      <td>1</td>\n",
       "    </tr>\n",
       "    <tr>\n",
       "      <th>1</th>\n",
       "      <td>1</td>\n",
       "      <td>69134</td>\n",
       "      <td>A</td>\n",
       "      <td>G</td>\n",
       "      <td>OR4F5</td>\n",
       "      <td>Benign</td>\n",
       "      <td>criteria_provided,_single_submitter</td>\n",
       "      <td>not_specified</td>\n",
       "      <td>SO:0001583|missense_variant</td>\n",
       "      <td>0</td>\n",
       "      <td>1</td>\n",
       "      <td>1</td>\n",
       "    </tr>\n",
       "    <tr>\n",
       "      <th>2</th>\n",
       "      <td>1</td>\n",
       "      <td>69308</td>\n",
       "      <td>A</td>\n",
       "      <td>G</td>\n",
       "      <td>OR4F5</td>\n",
       "      <td>Uncertain</td>\n",
       "      <td>criteria_provided,_single_submitter</td>\n",
       "      <td>not_specified</td>\n",
       "      <td>SO:0001583|missense_variant</td>\n",
       "      <td>1</td>\n",
       "      <td>1</td>\n",
       "      <td>1</td>\n",
       "    </tr>\n",
       "    <tr>\n",
       "      <th>3</th>\n",
       "      <td>1</td>\n",
       "      <td>69314</td>\n",
       "      <td>T</td>\n",
       "      <td>G</td>\n",
       "      <td>OR4F5</td>\n",
       "      <td>Uncertain</td>\n",
       "      <td>criteria_provided,_single_submitter</td>\n",
       "      <td>not_specified</td>\n",
       "      <td>SO:0001583|missense_variant</td>\n",
       "      <td>1</td>\n",
       "      <td>1</td>\n",
       "      <td>1</td>\n",
       "    </tr>\n",
       "    <tr>\n",
       "      <th>4</th>\n",
       "      <td>1</td>\n",
       "      <td>69404</td>\n",
       "      <td>T</td>\n",
       "      <td>C</td>\n",
       "      <td>OR4F5</td>\n",
       "      <td>Uncertain</td>\n",
       "      <td>criteria_provided,_single_submitter</td>\n",
       "      <td>not_specified</td>\n",
       "      <td>SO:0001583|missense_variant</td>\n",
       "      <td>1</td>\n",
       "      <td>1</td>\n",
       "      <td>1</td>\n",
       "    </tr>\n",
       "  </tbody>\n",
       "</table>\n",
       "</div>"
      ],
      "text/plain": [
       "  Chromosome  Position Reference Alternate_Allele Gene_Symbol  \\\n",
       "0          1     66926        AG                A       OR4F5   \n",
       "1          1     69134         A                G       OR4F5   \n",
       "2          1     69308         A                G       OR4F5   \n",
       "3          1     69314         T                G       OR4F5   \n",
       "4          1     69404         T                C       OR4F5   \n",
       "\n",
       "  Clinical_Significance               Clinical_Review_Status  \\\n",
       "0             Uncertain  criteria_provided,_single_submitter   \n",
       "1                Benign  criteria_provided,_single_submitter   \n",
       "2             Uncertain  criteria_provided,_single_submitter   \n",
       "3             Uncertain  criteria_provided,_single_submitter   \n",
       "4             Uncertain  criteria_provided,_single_submitter   \n",
       "\n",
       "  Clinical_Disease_Name             Missense_Variant  \\\n",
       "0  Retinitis_pigmentosa    SO:0001627|intron_variant   \n",
       "1         not_specified  SO:0001583|missense_variant   \n",
       "2         not_specified  SO:0001583|missense_variant   \n",
       "3         not_specified  SO:0001583|missense_variant   \n",
       "4         not_specified  SO:0001583|missense_variant   \n",
       "\n",
       "   Clinical_Significance_Encoded Chromosome_Encoded  \\\n",
       "0                              1                  1   \n",
       "1                              0                  1   \n",
       "2                              1                  1   \n",
       "3                              1                  1   \n",
       "4                              1                  1   \n",
       "\n",
       "   Clinical_Review_Status_Encoded  \n",
       "0                               1  \n",
       "1                               1  \n",
       "2                               1  \n",
       "3                               1  \n",
       "4                               1  "
      ]
     },
     "execution_count": 26,
     "metadata": {},
     "output_type": "execute_result"
    }
   ],
   "source": [
    "dataset.head()"
   ]
  },
  {
   "cell_type": "markdown",
   "id": "0103c68f",
   "metadata": {},
   "source": [
    "### Encoding - Gene Symbol"
   ]
  },
  {
   "cell_type": "code",
   "execution_count": 27,
   "id": "e3bdfdf6",
   "metadata": {},
   "outputs": [
    {
     "data": {
      "text/plain": [
       "array(['OR4F5', 'LINC01409', 'SAMD11', ..., 'GSTT1', 'CCL3L1', 'LILRA3'],\n",
       "      shape=(18516,), dtype=object)"
      ]
     },
     "execution_count": 27,
     "metadata": {},
     "output_type": "execute_result"
    }
   ],
   "source": [
    "dataset['Gene_Symbol'].unique()"
   ]
  },
  {
   "cell_type": "code",
   "execution_count": 28,
   "id": "fd8f00ae",
   "metadata": {},
   "outputs": [
    {
     "data": {
      "text/plain": [
       "Gene_Symbol\n",
       "TTN         36437\n",
       "BRCA2       19889\n",
       "ATM         18410\n",
       "APC         16023\n",
       "NF1         15898\n",
       "            ...  \n",
       "IRX2-DT         1\n",
       "DUX4            1\n",
       "ANKRD37         1\n",
       "TP53I11         1\n",
       "TMEM225B        1\n",
       "Name: count, Length: 18516, dtype: int64"
      ]
     },
     "execution_count": 28,
     "metadata": {},
     "output_type": "execute_result"
    }
   ],
   "source": [
    "gene_counts = dataset['Gene_Symbol'].value_counts()\n",
    "gene_counts"
   ]
  },
  {
   "cell_type": "code",
   "execution_count": 29,
   "id": "2fc24f7a",
   "metadata": {},
   "outputs": [
    {
     "data": {
      "text/html": [
       "<div>\n",
       "<style scoped>\n",
       "    .dataframe tbody tr th:only-of-type {\n",
       "        vertical-align: middle;\n",
       "    }\n",
       "\n",
       "    .dataframe tbody tr th {\n",
       "        vertical-align: top;\n",
       "    }\n",
       "\n",
       "    .dataframe thead th {\n",
       "        text-align: right;\n",
       "    }\n",
       "</style>\n",
       "<table border=\"1\" class=\"dataframe\">\n",
       "  <thead>\n",
       "    <tr style=\"text-align: right;\">\n",
       "      <th></th>\n",
       "      <th>Chromosome</th>\n",
       "      <th>Position</th>\n",
       "      <th>Reference</th>\n",
       "      <th>Alternate_Allele</th>\n",
       "      <th>Gene_Symbol</th>\n",
       "      <th>Clinical_Significance</th>\n",
       "      <th>Clinical_Review_Status</th>\n",
       "      <th>Clinical_Disease_Name</th>\n",
       "      <th>Missense_Variant</th>\n",
       "      <th>Clinical_Significance_Encoded</th>\n",
       "      <th>Chromosome_Encoded</th>\n",
       "      <th>Clinical_Review_Status_Encoded</th>\n",
       "      <th>Gene_Symbol_Encoded</th>\n",
       "    </tr>\n",
       "  </thead>\n",
       "  <tbody>\n",
       "    <tr>\n",
       "      <th>0</th>\n",
       "      <td>1</td>\n",
       "      <td>66926</td>\n",
       "      <td>AG</td>\n",
       "      <td>A</td>\n",
       "      <td>OR4F5</td>\n",
       "      <td>Uncertain</td>\n",
       "      <td>criteria_provided,_single_submitter</td>\n",
       "      <td>Retinitis_pigmentosa</td>\n",
       "      <td>SO:0001627|intron_variant</td>\n",
       "      <td>1</td>\n",
       "      <td>1</td>\n",
       "      <td>1</td>\n",
       "      <td>12</td>\n",
       "    </tr>\n",
       "    <tr>\n",
       "      <th>1</th>\n",
       "      <td>1</td>\n",
       "      <td>69134</td>\n",
       "      <td>A</td>\n",
       "      <td>G</td>\n",
       "      <td>OR4F5</td>\n",
       "      <td>Benign</td>\n",
       "      <td>criteria_provided,_single_submitter</td>\n",
       "      <td>not_specified</td>\n",
       "      <td>SO:0001583|missense_variant</td>\n",
       "      <td>0</td>\n",
       "      <td>1</td>\n",
       "      <td>1</td>\n",
       "      <td>12</td>\n",
       "    </tr>\n",
       "    <tr>\n",
       "      <th>2</th>\n",
       "      <td>1</td>\n",
       "      <td>69308</td>\n",
       "      <td>A</td>\n",
       "      <td>G</td>\n",
       "      <td>OR4F5</td>\n",
       "      <td>Uncertain</td>\n",
       "      <td>criteria_provided,_single_submitter</td>\n",
       "      <td>not_specified</td>\n",
       "      <td>SO:0001583|missense_variant</td>\n",
       "      <td>1</td>\n",
       "      <td>1</td>\n",
       "      <td>1</td>\n",
       "      <td>12</td>\n",
       "    </tr>\n",
       "    <tr>\n",
       "      <th>3</th>\n",
       "      <td>1</td>\n",
       "      <td>69314</td>\n",
       "      <td>T</td>\n",
       "      <td>G</td>\n",
       "      <td>OR4F5</td>\n",
       "      <td>Uncertain</td>\n",
       "      <td>criteria_provided,_single_submitter</td>\n",
       "      <td>not_specified</td>\n",
       "      <td>SO:0001583|missense_variant</td>\n",
       "      <td>1</td>\n",
       "      <td>1</td>\n",
       "      <td>1</td>\n",
       "      <td>12</td>\n",
       "    </tr>\n",
       "    <tr>\n",
       "      <th>4</th>\n",
       "      <td>1</td>\n",
       "      <td>69404</td>\n",
       "      <td>T</td>\n",
       "      <td>C</td>\n",
       "      <td>OR4F5</td>\n",
       "      <td>Uncertain</td>\n",
       "      <td>criteria_provided,_single_submitter</td>\n",
       "      <td>not_specified</td>\n",
       "      <td>SO:0001583|missense_variant</td>\n",
       "      <td>1</td>\n",
       "      <td>1</td>\n",
       "      <td>1</td>\n",
       "      <td>12</td>\n",
       "    </tr>\n",
       "  </tbody>\n",
       "</table>\n",
       "</div>"
      ],
      "text/plain": [
       "  Chromosome  Position Reference Alternate_Allele Gene_Symbol  \\\n",
       "0          1     66926        AG                A       OR4F5   \n",
       "1          1     69134         A                G       OR4F5   \n",
       "2          1     69308         A                G       OR4F5   \n",
       "3          1     69314         T                G       OR4F5   \n",
       "4          1     69404         T                C       OR4F5   \n",
       "\n",
       "  Clinical_Significance               Clinical_Review_Status  \\\n",
       "0             Uncertain  criteria_provided,_single_submitter   \n",
       "1                Benign  criteria_provided,_single_submitter   \n",
       "2             Uncertain  criteria_provided,_single_submitter   \n",
       "3             Uncertain  criteria_provided,_single_submitter   \n",
       "4             Uncertain  criteria_provided,_single_submitter   \n",
       "\n",
       "  Clinical_Disease_Name             Missense_Variant  \\\n",
       "0  Retinitis_pigmentosa    SO:0001627|intron_variant   \n",
       "1         not_specified  SO:0001583|missense_variant   \n",
       "2         not_specified  SO:0001583|missense_variant   \n",
       "3         not_specified  SO:0001583|missense_variant   \n",
       "4         not_specified  SO:0001583|missense_variant   \n",
       "\n",
       "   Clinical_Significance_Encoded Chromosome_Encoded  \\\n",
       "0                              1                  1   \n",
       "1                              0                  1   \n",
       "2                              1                  1   \n",
       "3                              1                  1   \n",
       "4                              1                  1   \n",
       "\n",
       "   Clinical_Review_Status_Encoded  Gene_Symbol_Encoded  \n",
       "0                               1                   12  \n",
       "1                               1                   12  \n",
       "2                               1                   12  \n",
       "3                               1                   12  \n",
       "4                               1                   12  "
      ]
     },
     "execution_count": 29,
     "metadata": {},
     "output_type": "execute_result"
    }
   ],
   "source": [
    "dataset['Gene_Symbol_Encoded'] = dataset['Gene_Symbol'].map(gene_counts)\n",
    "dataset.head()"
   ]
  },
  {
   "cell_type": "markdown",
   "id": "086bd918",
   "metadata": {},
   "source": [
    "### Position based feature - Chromosome position"
   ]
  },
  {
   "cell_type": "code",
   "execution_count": 30,
   "id": "a186e4c7",
   "metadata": {},
   "outputs": [
    {
     "data": {
      "text/html": [
       "<div>\n",
       "<style scoped>\n",
       "    .dataframe tbody tr th:only-of-type {\n",
       "        vertical-align: middle;\n",
       "    }\n",
       "\n",
       "    .dataframe tbody tr th {\n",
       "        vertical-align: top;\n",
       "    }\n",
       "\n",
       "    .dataframe thead th {\n",
       "        text-align: right;\n",
       "    }\n",
       "</style>\n",
       "<table border=\"1\" class=\"dataframe\">\n",
       "  <thead>\n",
       "    <tr style=\"text-align: right;\">\n",
       "      <th></th>\n",
       "      <th>Chromosome</th>\n",
       "      <th>Position</th>\n",
       "      <th>Reference</th>\n",
       "      <th>Alternate_Allele</th>\n",
       "      <th>Gene_Symbol</th>\n",
       "      <th>Clinical_Significance</th>\n",
       "      <th>Clinical_Review_Status</th>\n",
       "      <th>Clinical_Disease_Name</th>\n",
       "      <th>Missense_Variant</th>\n",
       "      <th>Clinical_Significance_Encoded</th>\n",
       "      <th>Chromosome_Encoded</th>\n",
       "      <th>Clinical_Review_Status_Encoded</th>\n",
       "      <th>Gene_Symbol_Encoded</th>\n",
       "      <th>POS_Percentile</th>\n",
       "    </tr>\n",
       "  </thead>\n",
       "  <tbody>\n",
       "    <tr>\n",
       "      <th>0</th>\n",
       "      <td>1</td>\n",
       "      <td>66926</td>\n",
       "      <td>AG</td>\n",
       "      <td>A</td>\n",
       "      <td>OR4F5</td>\n",
       "      <td>Uncertain</td>\n",
       "      <td>criteria_provided,_single_submitter</td>\n",
       "      <td>Retinitis_pigmentosa</td>\n",
       "      <td>SO:0001627|intron_variant</td>\n",
       "      <td>1</td>\n",
       "      <td>1</td>\n",
       "      <td>1</td>\n",
       "      <td>12</td>\n",
       "      <td>0.000003</td>\n",
       "    </tr>\n",
       "    <tr>\n",
       "      <th>1</th>\n",
       "      <td>1</td>\n",
       "      <td>69134</td>\n",
       "      <td>A</td>\n",
       "      <td>G</td>\n",
       "      <td>OR4F5</td>\n",
       "      <td>Benign</td>\n",
       "      <td>criteria_provided,_single_submitter</td>\n",
       "      <td>not_specified</td>\n",
       "      <td>SO:0001583|missense_variant</td>\n",
       "      <td>0</td>\n",
       "      <td>1</td>\n",
       "      <td>1</td>\n",
       "      <td>12</td>\n",
       "      <td>0.000006</td>\n",
       "    </tr>\n",
       "    <tr>\n",
       "      <th>2</th>\n",
       "      <td>1</td>\n",
       "      <td>69308</td>\n",
       "      <td>A</td>\n",
       "      <td>G</td>\n",
       "      <td>OR4F5</td>\n",
       "      <td>Uncertain</td>\n",
       "      <td>criteria_provided,_single_submitter</td>\n",
       "      <td>not_specified</td>\n",
       "      <td>SO:0001583|missense_variant</td>\n",
       "      <td>1</td>\n",
       "      <td>1</td>\n",
       "      <td>1</td>\n",
       "      <td>12</td>\n",
       "      <td>0.000009</td>\n",
       "    </tr>\n",
       "    <tr>\n",
       "      <th>3</th>\n",
       "      <td>1</td>\n",
       "      <td>69314</td>\n",
       "      <td>T</td>\n",
       "      <td>G</td>\n",
       "      <td>OR4F5</td>\n",
       "      <td>Uncertain</td>\n",
       "      <td>criteria_provided,_single_submitter</td>\n",
       "      <td>not_specified</td>\n",
       "      <td>SO:0001583|missense_variant</td>\n",
       "      <td>1</td>\n",
       "      <td>1</td>\n",
       "      <td>1</td>\n",
       "      <td>12</td>\n",
       "      <td>0.000012</td>\n",
       "    </tr>\n",
       "    <tr>\n",
       "      <th>4</th>\n",
       "      <td>1</td>\n",
       "      <td>69404</td>\n",
       "      <td>T</td>\n",
       "      <td>C</td>\n",
       "      <td>OR4F5</td>\n",
       "      <td>Uncertain</td>\n",
       "      <td>criteria_provided,_single_submitter</td>\n",
       "      <td>not_specified</td>\n",
       "      <td>SO:0001583|missense_variant</td>\n",
       "      <td>1</td>\n",
       "      <td>1</td>\n",
       "      <td>1</td>\n",
       "      <td>12</td>\n",
       "      <td>0.000015</td>\n",
       "    </tr>\n",
       "  </tbody>\n",
       "</table>\n",
       "</div>"
      ],
      "text/plain": [
       "  Chromosome  Position Reference Alternate_Allele Gene_Symbol  \\\n",
       "0          1     66926        AG                A       OR4F5   \n",
       "1          1     69134         A                G       OR4F5   \n",
       "2          1     69308         A                G       OR4F5   \n",
       "3          1     69314         T                G       OR4F5   \n",
       "4          1     69404         T                C       OR4F5   \n",
       "\n",
       "  Clinical_Significance               Clinical_Review_Status  \\\n",
       "0             Uncertain  criteria_provided,_single_submitter   \n",
       "1                Benign  criteria_provided,_single_submitter   \n",
       "2             Uncertain  criteria_provided,_single_submitter   \n",
       "3             Uncertain  criteria_provided,_single_submitter   \n",
       "4             Uncertain  criteria_provided,_single_submitter   \n",
       "\n",
       "  Clinical_Disease_Name             Missense_Variant  \\\n",
       "0  Retinitis_pigmentosa    SO:0001627|intron_variant   \n",
       "1         not_specified  SO:0001583|missense_variant   \n",
       "2         not_specified  SO:0001583|missense_variant   \n",
       "3         not_specified  SO:0001583|missense_variant   \n",
       "4         not_specified  SO:0001583|missense_variant   \n",
       "\n",
       "   Clinical_Significance_Encoded Chromosome_Encoded  \\\n",
       "0                              1                  1   \n",
       "1                              0                  1   \n",
       "2                              1                  1   \n",
       "3                              1                  1   \n",
       "4                              1                  1   \n",
       "\n",
       "   Clinical_Review_Status_Encoded  Gene_Symbol_Encoded  POS_Percentile  \n",
       "0                               1                   12        0.000003  \n",
       "1                               1                   12        0.000006  \n",
       "2                               1                   12        0.000009  \n",
       "3                               1                   12        0.000012  \n",
       "4                               1                   12        0.000015  "
      ]
     },
     "execution_count": 30,
     "metadata": {},
     "output_type": "execute_result"
    }
   ],
   "source": [
    "dataset['POS_Percentile'] = dataset.groupby('Chromosome')['Position'].rank(pct=True)\n",
    "dataset.head()"
   ]
  },
  {
   "cell_type": "code",
   "execution_count": 31,
   "id": "9040963c",
   "metadata": {},
   "outputs": [
    {
     "data": {
      "text/plain": [
       "0          0.000003\n",
       "1          0.000006\n",
       "2          0.000009\n",
       "3          0.000012\n",
       "4          0.000015\n",
       "             ...   \n",
       "3687730    0.700000\n",
       "3687731    0.800000\n",
       "3687732    0.900000\n",
       "3687733    1.000000\n",
       "3687734    1.000000\n",
       "Name: Position, Length: 3682186, dtype: float64"
      ]
     },
     "execution_count": 31,
     "metadata": {},
     "output_type": "execute_result"
    }
   ],
   "source": [
    "dataset.groupby('Chromosome')['Position'].rank(pct=True)"
   ]
  },
  {
   "cell_type": "markdown",
   "id": "46b5b500",
   "metadata": {},
   "source": [
    "### Mutation feature"
   ]
  },
  {
   "cell_type": "code",
   "execution_count": 32,
   "id": "ec5b925d",
   "metadata": {},
   "outputs": [
    {
     "data": {
      "text/html": [
       "<div>\n",
       "<style scoped>\n",
       "    .dataframe tbody tr th:only-of-type {\n",
       "        vertical-align: middle;\n",
       "    }\n",
       "\n",
       "    .dataframe tbody tr th {\n",
       "        vertical-align: top;\n",
       "    }\n",
       "\n",
       "    .dataframe thead th {\n",
       "        text-align: right;\n",
       "    }\n",
       "</style>\n",
       "<table border=\"1\" class=\"dataframe\">\n",
       "  <thead>\n",
       "    <tr style=\"text-align: right;\">\n",
       "      <th></th>\n",
       "      <th>Chromosome</th>\n",
       "      <th>Position</th>\n",
       "      <th>Reference</th>\n",
       "      <th>Alternate_Allele</th>\n",
       "      <th>Gene_Symbol</th>\n",
       "      <th>Clinical_Significance</th>\n",
       "      <th>Clinical_Review_Status</th>\n",
       "      <th>Clinical_Disease_Name</th>\n",
       "      <th>Missense_Variant</th>\n",
       "      <th>Clinical_Significance_Encoded</th>\n",
       "      <th>Chromosome_Encoded</th>\n",
       "      <th>Clinical_Review_Status_Encoded</th>\n",
       "      <th>Gene_Symbol_Encoded</th>\n",
       "      <th>POS_Percentile</th>\n",
       "      <th>IS_SNP</th>\n",
       "      <th>IS_INDEL</th>\n",
       "    </tr>\n",
       "  </thead>\n",
       "  <tbody>\n",
       "    <tr>\n",
       "      <th>0</th>\n",
       "      <td>1</td>\n",
       "      <td>66926</td>\n",
       "      <td>AG</td>\n",
       "      <td>A</td>\n",
       "      <td>OR4F5</td>\n",
       "      <td>Uncertain</td>\n",
       "      <td>criteria_provided,_single_submitter</td>\n",
       "      <td>Retinitis_pigmentosa</td>\n",
       "      <td>SO:0001627|intron_variant</td>\n",
       "      <td>1</td>\n",
       "      <td>1</td>\n",
       "      <td>1</td>\n",
       "      <td>12</td>\n",
       "      <td>0.000003</td>\n",
       "      <td>0</td>\n",
       "      <td>1</td>\n",
       "    </tr>\n",
       "    <tr>\n",
       "      <th>1</th>\n",
       "      <td>1</td>\n",
       "      <td>69134</td>\n",
       "      <td>A</td>\n",
       "      <td>G</td>\n",
       "      <td>OR4F5</td>\n",
       "      <td>Benign</td>\n",
       "      <td>criteria_provided,_single_submitter</td>\n",
       "      <td>not_specified</td>\n",
       "      <td>SO:0001583|missense_variant</td>\n",
       "      <td>0</td>\n",
       "      <td>1</td>\n",
       "      <td>1</td>\n",
       "      <td>12</td>\n",
       "      <td>0.000006</td>\n",
       "      <td>1</td>\n",
       "      <td>0</td>\n",
       "    </tr>\n",
       "    <tr>\n",
       "      <th>2</th>\n",
       "      <td>1</td>\n",
       "      <td>69308</td>\n",
       "      <td>A</td>\n",
       "      <td>G</td>\n",
       "      <td>OR4F5</td>\n",
       "      <td>Uncertain</td>\n",
       "      <td>criteria_provided,_single_submitter</td>\n",
       "      <td>not_specified</td>\n",
       "      <td>SO:0001583|missense_variant</td>\n",
       "      <td>1</td>\n",
       "      <td>1</td>\n",
       "      <td>1</td>\n",
       "      <td>12</td>\n",
       "      <td>0.000009</td>\n",
       "      <td>1</td>\n",
       "      <td>0</td>\n",
       "    </tr>\n",
       "    <tr>\n",
       "      <th>3</th>\n",
       "      <td>1</td>\n",
       "      <td>69314</td>\n",
       "      <td>T</td>\n",
       "      <td>G</td>\n",
       "      <td>OR4F5</td>\n",
       "      <td>Uncertain</td>\n",
       "      <td>criteria_provided,_single_submitter</td>\n",
       "      <td>not_specified</td>\n",
       "      <td>SO:0001583|missense_variant</td>\n",
       "      <td>1</td>\n",
       "      <td>1</td>\n",
       "      <td>1</td>\n",
       "      <td>12</td>\n",
       "      <td>0.000012</td>\n",
       "      <td>1</td>\n",
       "      <td>0</td>\n",
       "    </tr>\n",
       "    <tr>\n",
       "      <th>4</th>\n",
       "      <td>1</td>\n",
       "      <td>69404</td>\n",
       "      <td>T</td>\n",
       "      <td>C</td>\n",
       "      <td>OR4F5</td>\n",
       "      <td>Uncertain</td>\n",
       "      <td>criteria_provided,_single_submitter</td>\n",
       "      <td>not_specified</td>\n",
       "      <td>SO:0001583|missense_variant</td>\n",
       "      <td>1</td>\n",
       "      <td>1</td>\n",
       "      <td>1</td>\n",
       "      <td>12</td>\n",
       "      <td>0.000015</td>\n",
       "      <td>1</td>\n",
       "      <td>0</td>\n",
       "    </tr>\n",
       "  </tbody>\n",
       "</table>\n",
       "</div>"
      ],
      "text/plain": [
       "  Chromosome  Position Reference Alternate_Allele Gene_Symbol  \\\n",
       "0          1     66926        AG                A       OR4F5   \n",
       "1          1     69134         A                G       OR4F5   \n",
       "2          1     69308         A                G       OR4F5   \n",
       "3          1     69314         T                G       OR4F5   \n",
       "4          1     69404         T                C       OR4F5   \n",
       "\n",
       "  Clinical_Significance               Clinical_Review_Status  \\\n",
       "0             Uncertain  criteria_provided,_single_submitter   \n",
       "1                Benign  criteria_provided,_single_submitter   \n",
       "2             Uncertain  criteria_provided,_single_submitter   \n",
       "3             Uncertain  criteria_provided,_single_submitter   \n",
       "4             Uncertain  criteria_provided,_single_submitter   \n",
       "\n",
       "  Clinical_Disease_Name             Missense_Variant  \\\n",
       "0  Retinitis_pigmentosa    SO:0001627|intron_variant   \n",
       "1         not_specified  SO:0001583|missense_variant   \n",
       "2         not_specified  SO:0001583|missense_variant   \n",
       "3         not_specified  SO:0001583|missense_variant   \n",
       "4         not_specified  SO:0001583|missense_variant   \n",
       "\n",
       "   Clinical_Significance_Encoded Chromosome_Encoded  \\\n",
       "0                              1                  1   \n",
       "1                              0                  1   \n",
       "2                              1                  1   \n",
       "3                              1                  1   \n",
       "4                              1                  1   \n",
       "\n",
       "   Clinical_Review_Status_Encoded  Gene_Symbol_Encoded  POS_Percentile  \\\n",
       "0                               1                   12        0.000003   \n",
       "1                               1                   12        0.000006   \n",
       "2                               1                   12        0.000009   \n",
       "3                               1                   12        0.000012   \n",
       "4                               1                   12        0.000015   \n",
       "\n",
       "   IS_SNP  IS_INDEL  \n",
       "0       0         1  \n",
       "1       1         0  \n",
       "2       1         0  \n",
       "3       1         0  \n",
       "4       1         0  "
      ]
     },
     "execution_count": 32,
     "metadata": {},
     "output_type": "execute_result"
    }
   ],
   "source": [
    "dataset['IS_SNP'] = dataset.apply(lambda x: 1 if len(x['Reference']) == 1 and len(x['Alternate_Allele']) == 1 else 0, axis=1)\n",
    "dataset['IS_INDEL'] = dataset.apply(lambda x: 1 if len(x['Reference']) != len(x['Alternate_Allele']) else 0, axis=1)\n",
    "dataset.head()"
   ]
  },
  {
   "cell_type": "markdown",
   "id": "5439ae44",
   "metadata": {},
   "source": [
    "### Drop unused columns"
   ]
  },
  {
   "cell_type": "code",
   "execution_count": 33,
   "id": "b48c4232",
   "metadata": {},
   "outputs": [
    {
     "data": {
      "text/plain": [
       "Index(['Clinical_Significance_Encoded', 'Chromosome_Encoded',\n",
       "       'Clinical_Review_Status_Encoded', 'Gene_Symbol_Encoded',\n",
       "       'POS_Percentile', 'IS_SNP', 'IS_INDEL'],\n",
       "      dtype='object')"
      ]
     },
     "execution_count": 33,
     "metadata": {},
     "output_type": "execute_result"
    }
   ],
   "source": [
    "dataset.drop(columns=['Reference', 'Alternate_Allele', 'Gene_Symbol', \n",
    "                      'Clinical_Review_Status', 'Clinical_Disease_Name', 'Clinical_Significance', 'Position',\n",
    "                      'Chromosome', 'Missense_Variant'\n",
    "                     ], inplace=True)\n",
    "dataset.columns"
   ]
  },
  {
   "cell_type": "code",
   "execution_count": 34,
   "id": "4f9175c3",
   "metadata": {},
   "outputs": [
    {
     "data": {
      "text/html": [
       "<div>\n",
       "<style scoped>\n",
       "    .dataframe tbody tr th:only-of-type {\n",
       "        vertical-align: middle;\n",
       "    }\n",
       "\n",
       "    .dataframe tbody tr th {\n",
       "        vertical-align: top;\n",
       "    }\n",
       "\n",
       "    .dataframe thead th {\n",
       "        text-align: right;\n",
       "    }\n",
       "</style>\n",
       "<table border=\"1\" class=\"dataframe\">\n",
       "  <thead>\n",
       "    <tr style=\"text-align: right;\">\n",
       "      <th></th>\n",
       "      <th>Clinical_Significance_Encoded</th>\n",
       "      <th>Chromosome_Encoded</th>\n",
       "      <th>Clinical_Review_Status_Encoded</th>\n",
       "      <th>Gene_Symbol_Encoded</th>\n",
       "      <th>POS_Percentile</th>\n",
       "      <th>IS_SNP</th>\n",
       "      <th>IS_INDEL</th>\n",
       "    </tr>\n",
       "  </thead>\n",
       "  <tbody>\n",
       "    <tr>\n",
       "      <th>0</th>\n",
       "      <td>1</td>\n",
       "      <td>1</td>\n",
       "      <td>1</td>\n",
       "      <td>12</td>\n",
       "      <td>0.000003</td>\n",
       "      <td>0</td>\n",
       "      <td>1</td>\n",
       "    </tr>\n",
       "    <tr>\n",
       "      <th>1</th>\n",
       "      <td>0</td>\n",
       "      <td>1</td>\n",
       "      <td>1</td>\n",
       "      <td>12</td>\n",
       "      <td>0.000006</td>\n",
       "      <td>1</td>\n",
       "      <td>0</td>\n",
       "    </tr>\n",
       "    <tr>\n",
       "      <th>2</th>\n",
       "      <td>1</td>\n",
       "      <td>1</td>\n",
       "      <td>1</td>\n",
       "      <td>12</td>\n",
       "      <td>0.000009</td>\n",
       "      <td>1</td>\n",
       "      <td>0</td>\n",
       "    </tr>\n",
       "    <tr>\n",
       "      <th>3</th>\n",
       "      <td>1</td>\n",
       "      <td>1</td>\n",
       "      <td>1</td>\n",
       "      <td>12</td>\n",
       "      <td>0.000012</td>\n",
       "      <td>1</td>\n",
       "      <td>0</td>\n",
       "    </tr>\n",
       "    <tr>\n",
       "      <th>4</th>\n",
       "      <td>1</td>\n",
       "      <td>1</td>\n",
       "      <td>1</td>\n",
       "      <td>12</td>\n",
       "      <td>0.000015</td>\n",
       "      <td>1</td>\n",
       "      <td>0</td>\n",
       "    </tr>\n",
       "  </tbody>\n",
       "</table>\n",
       "</div>"
      ],
      "text/plain": [
       "   Clinical_Significance_Encoded Chromosome_Encoded  \\\n",
       "0                              1                  1   \n",
       "1                              0                  1   \n",
       "2                              1                  1   \n",
       "3                              1                  1   \n",
       "4                              1                  1   \n",
       "\n",
       "   Clinical_Review_Status_Encoded  Gene_Symbol_Encoded  POS_Percentile  \\\n",
       "0                               1                   12        0.000003   \n",
       "1                               1                   12        0.000006   \n",
       "2                               1                   12        0.000009   \n",
       "3                               1                   12        0.000012   \n",
       "4                               1                   12        0.000015   \n",
       "\n",
       "   IS_SNP  IS_INDEL  \n",
       "0       0         1  \n",
       "1       1         0  \n",
       "2       1         0  \n",
       "3       1         0  \n",
       "4       1         0  "
      ]
     },
     "execution_count": 34,
     "metadata": {},
     "output_type": "execute_result"
    }
   ],
   "source": [
    "dataset.head()"
   ]
  },
  {
   "cell_type": "markdown",
   "id": "0179b233",
   "metadata": {},
   "source": [
    "## Writing the dataset in files"
   ]
  },
  {
   "cell_type": "code",
   "execution_count": 35,
   "id": "8ae25459",
   "metadata": {},
   "outputs": [],
   "source": [
    "dataset.to_csv('data/ml_ready_genomics.csv')"
   ]
  },
  {
   "cell_type": "code",
   "execution_count": null,
   "id": "3a69a14b",
   "metadata": {},
   "outputs": [],
   "source": []
  }
 ],
 "metadata": {
  "kernelspec": {
   "display_name": "Genomics (conda)",
   "language": "python",
   "name": "genomics"
  },
  "language_info": {
   "codemirror_mode": {
    "name": "ipython",
    "version": 3
   },
   "file_extension": ".py",
   "mimetype": "text/x-python",
   "name": "python",
   "nbconvert_exporter": "python",
   "pygments_lexer": "ipython3",
   "version": "3.10.19"
  },
  "toc": {
   "base_numbering": 1,
   "nav_menu": {},
   "number_sections": true,
   "sideBar": true,
   "skip_h1_title": true,
   "title_cell": "Table of Contents",
   "title_sidebar": "Contents",
   "toc_cell": false,
   "toc_position": {
    "height": "calc(100% - 180px)",
    "left": "10px",
    "top": "150px",
    "width": "384px"
   },
   "toc_section_display": true,
   "toc_window_display": true
  }
 },
 "nbformat": 4,
 "nbformat_minor": 5
}
